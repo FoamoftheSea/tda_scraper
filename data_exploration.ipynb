{
 "cells": [
  {
   "cell_type": "code",
   "execution_count": 1,
   "metadata": {},
   "outputs": [],
   "source": [
    "import bot_functions as bf\n",
    "import matplotlib.pyplot as plt\n",
    "import numpy as np\n",
    "import pandas as pd\n",
    "from tda import auth, client\n",
    "plt.style.use('ggplot')"
   ]
  },
  {
   "cell_type": "code",
   "execution_count": 2,
   "metadata": {},
   "outputs": [],
   "source": [
    "%load_ext autoreload\n",
    "%autoreload 1\n",
    "%aimport bot_functions"
   ]
  },
  {
   "cell_type": "code",
   "execution_count": 7,
   "metadata": {},
   "outputs": [],
   "source": [
    "# Enter the directory containing the .json file with your API key\n",
    "keys = bf.get_keys(\"/your/API/key/file/location.json\")\n",
    "api_key = keys[\"consumer_key\"]\n",
    "\n",
    "# Enter the directory containing the path to your access token\n",
    "# One will be created here if you don't already have one\n",
    "token_path = \"/your/access/token/folder\"\n",
    "\n",
    "# Establish your redirect URL, don't change unless you have a remotely hosted app\n",
    "redirect_url = \"https://localhost\""
   ]
  },
  {
   "cell_type": "code",
   "execution_count": 8,
   "metadata": {},
   "outputs": [],
   "source": [
    "# Enter the path to your previously scraped watchlist\n",
    "path =  'C:\\your\\scraped\\database\\path'"
   ]
  },
  {
   "cell_type": "code",
   "execution_count": 9,
   "metadata": {},
   "outputs": [],
   "source": [
    "# Establish a tda api client to pass to functions\n",
    "c = auth.easy_client(api_key, \n",
    "                     redirect_url, \n",
    "                     token_path\n",
    "                    )"
   ]
  },
  {
   "cell_type": "code",
   "execution_count": 10,
   "metadata": {},
   "outputs": [
    {
     "data": {
      "text/html": [
       "<div>\n",
       "<style scoped>\n",
       "    .dataframe tbody tr th:only-of-type {\n",
       "        vertical-align: middle;\n",
       "    }\n",
       "\n",
       "    .dataframe tbody tr th {\n",
       "        vertical-align: top;\n",
       "    }\n",
       "\n",
       "    .dataframe thead th {\n",
       "        text-align: right;\n",
       "    }\n",
       "</style>\n",
       "<table border=\"1\" class=\"dataframe\">\n",
       "  <thead>\n",
       "    <tr style=\"text-align: right;\">\n",
       "      <th></th>\n",
       "      <th>Symbol</th>\n",
       "    </tr>\n",
       "  </thead>\n",
       "  <tbody>\n",
       "    <tr>\n",
       "      <th>0</th>\n",
       "      <td>A</td>\n",
       "    </tr>\n",
       "    <tr>\n",
       "      <th>1</th>\n",
       "      <td>AAL</td>\n",
       "    </tr>\n",
       "  </tbody>\n",
       "</table>\n",
       "</div>"
      ],
      "text/plain": [
       "  Symbol\n",
       "0      A\n",
       "1    AAL"
      ]
     },
     "execution_count": 10,
     "metadata": {},
     "output_type": "execute_result"
    }
   ],
   "source": [
    "# Retrieve the SP500 tickers from the contained .csv file\n",
    "sp500_tickers = pd.read_csv('sp500.csv', index_col='Unnamed: 0')\n",
    "sp500_tickers.head(2)"
   ]
  },
  {
   "cell_type": "code",
   "execution_count": 11,
   "metadata": {},
   "outputs": [],
   "source": [
    "# Accumulate your scraped data into one big dataframe for comparisons\n",
    "sp500 = bf.build_big_df(sp500_tickers['Symbol'], path)"
   ]
  },
  {
   "cell_type": "code",
   "execution_count": 15,
   "metadata": {},
   "outputs": [
    {
     "name": "stdout",
     "output_type": "stream",
     "text": [
      "Number of growing stocks: 156\n",
      "Number of shrinking stocks: 321\n"
     ]
    }
   ],
   "source": [
    "# Find only stocks that analysts predict will grow over 1yr and 2yr periods\n",
    "growing = sp500[(sp500['Growth 1yr Consensus Est'] > 0)\n",
    "               &sp500['Growth 2yr Consensus Est'] > 0]\n",
    "print(\"Number of growing stocks:\", len(growing))\n",
    "\n",
    "# Find only stocks that analysts predict will shrink over 1yr period\n",
    "shrinking = sp500[sp500['Growth 1yr Consensus Est'] < 0]\n",
    "print(\"Number of shrinking stocks:\", len(shrinking))"
   ]
  },
  {
   "cell_type": "code",
   "execution_count": 39,
   "metadata": {},
   "outputs": [],
   "source": [
    "# Create a watchlist for growing stocks (possible longs)\n",
    "value_watch = list(growing.index)\n",
    "# Create a watchlist for falling stocks (possible shorts)\n",
    "short_watch = list(shrinking.index)"
   ]
  },
  {
   "cell_type": "code",
   "execution_count": 40,
   "metadata": {},
   "outputs": [],
   "source": [
    "# Additional filtering of watchlist by analyst reports (just one example):\n",
    "theStreet_buy = sp500[sp500['theStreet'] == 'buy'].index\n",
    "value_watch = [x for x in value_watch if x in theStreet_buy]"
   ]
  },
  {
   "cell_type": "code",
   "execution_count": 41,
   "metadata": {},
   "outputs": [
    {
     "data": {
      "text/html": [
       "<div>\n",
       "<style scoped>\n",
       "    .dataframe tbody tr th:only-of-type {\n",
       "        vertical-align: middle;\n",
       "    }\n",
       "\n",
       "    .dataframe tbody tr th {\n",
       "        vertical-align: top;\n",
       "    }\n",
       "\n",
       "    .dataframe thead th {\n",
       "        text-align: right;\n",
       "    }\n",
       "</style>\n",
       "<table border=\"1\" class=\"dataframe\">\n",
       "  <thead>\n",
       "    <tr style=\"text-align: right;\">\n",
       "      <th></th>\n",
       "      <th>Est High</th>\n",
       "      <th>Est Low</th>\n",
       "      <th>Intrinsic: FCF</th>\n",
       "      <th>Intrinsic: PB</th>\n",
       "      <th>Intrinsic: PE</th>\n",
       "      <th>Intrinsic: PR</th>\n",
       "      <th>Price</th>\n",
       "    </tr>\n",
       "  </thead>\n",
       "  <tbody>\n",
       "    <tr>\n",
       "      <th>AAPL</th>\n",
       "      <td>388.279176</td>\n",
       "      <td>176.232710</td>\n",
       "      <td>206.351235</td>\n",
       "      <td>176.232710</td>\n",
       "      <td>388.279176</td>\n",
       "      <td>302.888120</td>\n",
       "      <td>290.40</td>\n",
       "    </tr>\n",
       "    <tr>\n",
       "      <th>ACN</th>\n",
       "      <td>710.231301</td>\n",
       "      <td>237.259534</td>\n",
       "      <td>237.259534</td>\n",
       "      <td>673.510882</td>\n",
       "      <td>334.181422</td>\n",
       "      <td>710.231301</td>\n",
       "      <td>180.09</td>\n",
       "    </tr>\n",
       "    <tr>\n",
       "      <th>ADBE</th>\n",
       "      <td>929.802896</td>\n",
       "      <td>368.916524</td>\n",
       "      <td>929.802896</td>\n",
       "      <td>368.916524</td>\n",
       "      <td>883.165041</td>\n",
       "      <td>629.068205</td>\n",
       "      <td>343.62</td>\n",
       "    </tr>\n",
       "    <tr>\n",
       "      <th>ADP</th>\n",
       "      <td>369.227971</td>\n",
       "      <td>151.332297</td>\n",
       "      <td>151.332297</td>\n",
       "      <td>187.843174</td>\n",
       "      <td>306.180690</td>\n",
       "      <td>369.227971</td>\n",
       "      <td>141.06</td>\n",
       "    </tr>\n",
       "    <tr>\n",
       "      <th>AIZ</th>\n",
       "      <td>94523.980213</td>\n",
       "      <td>171.050791</td>\n",
       "      <td>94523.980213</td>\n",
       "      <td>197.615236</td>\n",
       "      <td>171.050791</td>\n",
       "      <td>562.337398</td>\n",
       "      <td>102.32</td>\n",
       "    </tr>\n",
       "  </tbody>\n",
       "</table>\n",
       "</div>"
      ],
      "text/plain": [
       "          Est High     Est Low  Intrinsic: FCF  Intrinsic: PB  Intrinsic: PE  \\\n",
       "AAPL    388.279176  176.232710      206.351235     176.232710     388.279176   \n",
       "ACN     710.231301  237.259534      237.259534     673.510882     334.181422   \n",
       "ADBE    929.802896  368.916524      929.802896     368.916524     883.165041   \n",
       "ADP     369.227971  151.332297      151.332297     187.843174     306.180690   \n",
       "AIZ   94523.980213  171.050791    94523.980213     197.615236     171.050791   \n",
       "\n",
       "      Intrinsic: PR   Price  \n",
       "AAPL     302.888120  290.40  \n",
       "ACN      710.231301  180.09  \n",
       "ADBE     629.068205  343.62  \n",
       "ADP      369.227971  141.06  \n",
       "AIZ      562.337398  102.32  "
      ]
     },
     "execution_count": 41,
     "metadata": {},
     "output_type": "execute_result"
    }
   ],
   "source": [
    "# Create intrinsic value estimate ranges for growing stocks\n",
    "value_estimates = bf.get_intrinsic_range(c, value_watch, path)\n",
    "value_estimates.head()"
   ]
  },
  {
   "cell_type": "code",
   "execution_count": 47,
   "metadata": {},
   "outputs": [
    {
     "name": "stdout",
     "output_type": "stream",
     "text": [
      "Number of undervalued companies: 42\n"
     ]
    },
    {
     "data": {
      "text/html": [
       "<div>\n",
       "<style scoped>\n",
       "    .dataframe tbody tr th:only-of-type {\n",
       "        vertical-align: middle;\n",
       "    }\n",
       "\n",
       "    .dataframe tbody tr th {\n",
       "        vertical-align: top;\n",
       "    }\n",
       "\n",
       "    .dataframe thead th {\n",
       "        text-align: right;\n",
       "    }\n",
       "</style>\n",
       "<table border=\"1\" class=\"dataframe\">\n",
       "  <thead>\n",
       "    <tr style=\"text-align: right;\">\n",
       "      <th></th>\n",
       "      <th>Est High</th>\n",
       "      <th>Est Low</th>\n",
       "      <th>Intrinsic: FCF</th>\n",
       "      <th>Intrinsic: PB</th>\n",
       "      <th>Intrinsic: PE</th>\n",
       "      <th>Intrinsic: PR</th>\n",
       "      <th>Price</th>\n",
       "      <th>Margin of Safety</th>\n",
       "    </tr>\n",
       "  </thead>\n",
       "  <tbody>\n",
       "    <tr>\n",
       "      <th>AKAM</th>\n",
       "      <td>356.082025</td>\n",
       "      <td>150.758060</td>\n",
       "      <td>150.758060</td>\n",
       "      <td>356.082025</td>\n",
       "      <td>229.424892</td>\n",
       "      <td>219.740708</td>\n",
       "      <td>95.84</td>\n",
       "      <td>0.573018</td>\n",
       "    </tr>\n",
       "    <tr>\n",
       "      <th>ANTM</th>\n",
       "      <td>4838.433653</td>\n",
       "      <td>424.852642</td>\n",
       "      <td>424.852642</td>\n",
       "      <td>838.977299</td>\n",
       "      <td>942.273477</td>\n",
       "      <td>4838.433653</td>\n",
       "      <td>269.57</td>\n",
       "      <td>0.576038</td>\n",
       "    </tr>\n",
       "    <tr>\n",
       "      <th>KR</th>\n",
       "      <td>94.507409</td>\n",
       "      <td>50.766023</td>\n",
       "      <td>59.068767</td>\n",
       "      <td>65.894517</td>\n",
       "      <td>50.766023</td>\n",
       "      <td>94.507409</td>\n",
       "      <td>32.18</td>\n",
       "      <td>0.577564</td>\n",
       "    </tr>\n",
       "    <tr>\n",
       "      <th>SNPS</th>\n",
       "      <td>392.716517</td>\n",
       "      <td>238.569259</td>\n",
       "      <td>290.001856</td>\n",
       "      <td>392.716517</td>\n",
       "      <td>238.569259</td>\n",
       "      <td>362.746374</td>\n",
       "      <td>149.64</td>\n",
       "      <td>0.594288</td>\n",
       "    </tr>\n",
       "    <tr>\n",
       "      <th>AMAT</th>\n",
       "      <td>163.356130</td>\n",
       "      <td>76.600440</td>\n",
       "      <td>163.356130</td>\n",
       "      <td>76.600440</td>\n",
       "      <td>94.176569</td>\n",
       "      <td>130.478541</td>\n",
       "      <td>47.10</td>\n",
       "      <td>0.626336</td>\n",
       "    </tr>\n",
       "  </tbody>\n",
       "</table>\n",
       "</div>"
      ],
      "text/plain": [
       "         Est High     Est Low  Intrinsic: FCF  Intrinsic: PB  Intrinsic: PE  \\\n",
       "AKAM   356.082025  150.758060      150.758060     356.082025     229.424892   \n",
       "ANTM  4838.433653  424.852642      424.852642     838.977299     942.273477   \n",
       "KR      94.507409   50.766023       59.068767      65.894517      50.766023   \n",
       "SNPS   392.716517  238.569259      290.001856     392.716517     238.569259   \n",
       "AMAT   163.356130   76.600440      163.356130      76.600440      94.176569   \n",
       "\n",
       "      Intrinsic: PR   Price  Margin of Safety  \n",
       "AKAM     219.740708   95.84          0.573018  \n",
       "ANTM    4838.433653  269.57          0.576038  \n",
       "KR        94.507409   32.18          0.577564  \n",
       "SNPS     362.746374  149.64          0.594288  \n",
       "AMAT     130.478541   47.10          0.626336  "
      ]
     },
     "metadata": {},
     "output_type": "display_data"
    },
    {
     "data": {
      "text/plain": [
       "Text(0.5, 0, 'Ticker')"
      ]
     },
     "execution_count": 47,
     "metadata": {},
     "output_type": "execute_result"
    },
    {
     "data": {
      "image/png": "[encoded data removed]",
      "text/plain": [
       "<Figure size 864x432 with 1 Axes>"
      ]
     },
     "metadata": {},
     "output_type": "display_data"
    }
   ],
   "source": [
    "# Inspect only those stocks which are selling beneath the lowest estimate from above\n",
    "inspect = value_estimates[(value_estimates['Price'] < value_estimates['Est Low'])].copy()\n",
    "# Calculate Margin of Safety between current price and your lowest estimate\n",
    "inspect['Margin of Safety'] = inspect['Est Low']/ inspect['Price'] - 1\n",
    "inspect.sort_values(by='Margin of Safety', inplace=True)\n",
    "print(\"Number of undervalued companies:\", len(inspect))\n",
    "\n",
    "# View your dataframe\n",
    "display(inspect.iloc[25:30])\n",
    "\n",
    "# Visually inspect the results\n",
    "inspect.reset_index().plot(x='index', \n",
    "                           y='Margin of Safety',\n",
    "                           figsize=(12,6))\n",
    "plt.title('Undervalued Securities')\n",
    "plt.xlabel('Ticker')"
   ]
  },
  {
   "cell_type": "code",
   "execution_count": 25,
   "metadata": {},
   "outputs": [
    {
     "name": "stdout",
     "output_type": "stream",
     "text": [
      "No P/E information available for BIIB, skipping\n",
      "No Price/Sales data for BIIB, skipping\n",
      "Price/Book info not available for BIIB, skipping\n"
     ]
    },
    {
     "data": {
      "text/html": [
       "<div>\n",
       "<style scoped>\n",
       "    .dataframe tbody tr th:only-of-type {\n",
       "        vertical-align: middle;\n",
       "    }\n",
       "\n",
       "    .dataframe tbody tr th {\n",
       "        vertical-align: top;\n",
       "    }\n",
       "\n",
       "    .dataframe thead th {\n",
       "        text-align: right;\n",
       "    }\n",
       "</style>\n",
       "<table border=\"1\" class=\"dataframe\">\n",
       "  <thead>\n",
       "    <tr style=\"text-align: right;\">\n",
       "      <th></th>\n",
       "      <th>Est High</th>\n",
       "      <th>Est Low</th>\n",
       "      <th>Intrinsic: FCF</th>\n",
       "      <th>Intrinsic: PB</th>\n",
       "      <th>Intrinsic: PE</th>\n",
       "      <th>Intrinsic: PR</th>\n",
       "      <th>Price</th>\n",
       "    </tr>\n",
       "  </thead>\n",
       "  <tbody>\n",
       "    <tr>\n",
       "      <th>A</th>\n",
       "      <td>125.206421</td>\n",
       "      <td>50.678006</td>\n",
       "      <td>50.678006</td>\n",
       "      <td>101.395002</td>\n",
       "      <td>125.206421</td>\n",
       "      <td>121.937435</td>\n",
       "      <td>74.00</td>\n",
       "    </tr>\n",
       "    <tr>\n",
       "      <th>AAL</th>\n",
       "      <td>244.065317</td>\n",
       "      <td>-0.005624</td>\n",
       "      <td>244.065317</td>\n",
       "      <td>-0.005624</td>\n",
       "      <td>-0.000000</td>\n",
       "      <td>38.983465</td>\n",
       "      <td>10.76</td>\n",
       "    </tr>\n",
       "    <tr>\n",
       "      <th>AAP</th>\n",
       "      <td>23187.356987</td>\n",
       "      <td>206.558226</td>\n",
       "      <td>206.558226</td>\n",
       "      <td>1248.449558</td>\n",
       "      <td>214.500118</td>\n",
       "      <td>23187.356987</td>\n",
       "      <td>116.50</td>\n",
       "    </tr>\n",
       "    <tr>\n",
       "      <th>ABC</th>\n",
       "      <td>11115.185429</td>\n",
       "      <td>74.238579</td>\n",
       "      <td>74.238579</td>\n",
       "      <td>649.816066</td>\n",
       "      <td>95.365044</td>\n",
       "      <td>11115.185429</td>\n",
       "      <td>86.38</td>\n",
       "    </tr>\n",
       "    <tr>\n",
       "      <th>ABMD</th>\n",
       "      <td>1001.984259</td>\n",
       "      <td>472.476332</td>\n",
       "      <td>1001.984259</td>\n",
       "      <td>712.275704</td>\n",
       "      <td>506.722456</td>\n",
       "      <td>472.476332</td>\n",
       "      <td>187.00</td>\n",
       "    </tr>\n",
       "  </tbody>\n",
       "</table>\n",
       "</div>"
      ],
      "text/plain": [
       "          Est High     Est Low  Intrinsic: FCF  Intrinsic: PB  Intrinsic: PE  \\\n",
       "A       125.206421   50.678006       50.678006     101.395002     125.206421   \n",
       "AAL     244.065317   -0.005624      244.065317      -0.005624      -0.000000   \n",
       "AAP   23187.356987  206.558226      206.558226    1248.449558     214.500118   \n",
       "ABC   11115.185429   74.238579       74.238579     649.816066      95.365044   \n",
       "ABMD   1001.984259  472.476332     1001.984259     712.275704     506.722456   \n",
       "\n",
       "      Intrinsic: PR   Price  \n",
       "A        121.937435   74.00  \n",
       "AAL       38.983465   10.76  \n",
       "AAP    23187.356987  116.50  \n",
       "ABC    11115.185429   86.38  \n",
       "ABMD     472.476332  187.00  "
      ]
     },
     "execution_count": 25,
     "metadata": {},
     "output_type": "execute_result"
    }
   ],
   "source": [
    "# Calculate intrinsic value ranges for shrinking stocks\n",
    "short_estimates = bf.get_intrinsic_range(c, short_watch, path)\n",
    "short_estimates.head()"
   ]
  },
  {
   "cell_type": "code",
   "execution_count": 30,
   "metadata": {},
   "outputs": [
    {
     "name": "stdout",
     "output_type": "stream",
     "text": [
      "Number of overvalued compaines: 5\n"
     ]
    },
    {
     "data": {
      "text/html": [
       "<div>\n",
       "<style scoped>\n",
       "    .dataframe tbody tr th:only-of-type {\n",
       "        vertical-align: middle;\n",
       "    }\n",
       "\n",
       "    .dataframe tbody tr th {\n",
       "        vertical-align: top;\n",
       "    }\n",
       "\n",
       "    .dataframe thead th {\n",
       "        text-align: right;\n",
       "    }\n",
       "</style>\n",
       "<table border=\"1\" class=\"dataframe\">\n",
       "  <thead>\n",
       "    <tr style=\"text-align: right;\">\n",
       "      <th></th>\n",
       "      <th>Est High</th>\n",
       "      <th>Est Low</th>\n",
       "      <th>Intrinsic: FCF</th>\n",
       "      <th>Intrinsic: PB</th>\n",
       "      <th>Intrinsic: PE</th>\n",
       "      <th>Intrinsic: PR</th>\n",
       "      <th>Price</th>\n",
       "      <th>Margin of Safety</th>\n",
       "    </tr>\n",
       "  </thead>\n",
       "  <tbody>\n",
       "    <tr>\n",
       "      <th>UA</th>\n",
       "      <td>-65.635445</td>\n",
       "      <td>-65.635445</td>\n",
       "      <td>-65.635445</td>\n",
       "      <td>NaN</td>\n",
       "      <td>NaN</td>\n",
       "      <td>NaN</td>\n",
       "      <td>8.90</td>\n",
       "      <td>-1.135597</td>\n",
       "    </tr>\n",
       "    <tr>\n",
       "      <th>PNR</th>\n",
       "      <td>32.419875</td>\n",
       "      <td>13.824568</td>\n",
       "      <td>13.824568</td>\n",
       "      <td>32.419875</td>\n",
       "      <td>18.727949</td>\n",
       "      <td>17.426305</td>\n",
       "      <td>33.43</td>\n",
       "      <td>0.031158</td>\n",
       "    </tr>\n",
       "    <tr>\n",
       "      <th>MMM</th>\n",
       "      <td>130.146211</td>\n",
       "      <td>65.940746</td>\n",
       "      <td>130.146211</td>\n",
       "      <td>65.940746</td>\n",
       "      <td>119.695668</td>\n",
       "      <td>121.229061</td>\n",
       "      <td>148.60</td>\n",
       "      <td>0.141793</td>\n",
       "    </tr>\n",
       "    <tr>\n",
       "      <th>ROK</th>\n",
       "      <td>151.808844</td>\n",
       "      <td>7.718489</td>\n",
       "      <td>151.808844</td>\n",
       "      <td>7.718489</td>\n",
       "      <td>121.942999</td>\n",
       "      <td>118.161492</td>\n",
       "      <td>183.19</td>\n",
       "      <td>0.206715</td>\n",
       "    </tr>\n",
       "    <tr>\n",
       "      <th>SLB</th>\n",
       "      <td>11.940383</td>\n",
       "      <td>-0.000000</td>\n",
       "      <td>7.498281</td>\n",
       "      <td>11.940383</td>\n",
       "      <td>-0.000000</td>\n",
       "      <td>10.070008</td>\n",
       "      <td>15.75</td>\n",
       "      <td>0.319053</td>\n",
       "    </tr>\n",
       "  </tbody>\n",
       "</table>\n",
       "</div>"
      ],
      "text/plain": [
       "       Est High    Est Low  Intrinsic: FCF  Intrinsic: PB  Intrinsic: PE  \\\n",
       "UA   -65.635445 -65.635445      -65.635445            NaN            NaN   \n",
       "PNR   32.419875  13.824568       13.824568      32.419875      18.727949   \n",
       "MMM  130.146211  65.940746      130.146211      65.940746     119.695668   \n",
       "ROK  151.808844   7.718489      151.808844       7.718489     121.942999   \n",
       "SLB   11.940383  -0.000000        7.498281      11.940383      -0.000000   \n",
       "\n",
       "     Intrinsic: PR   Price  Margin of Safety  \n",
       "UA             NaN    8.90         -1.135597  \n",
       "PNR      17.426305   33.43          0.031158  \n",
       "MMM     121.229061  148.60          0.141793  \n",
       "ROK     118.161492  183.19          0.206715  \n",
       "SLB      10.070008   15.75          0.319053  "
      ]
     },
     "metadata": {},
     "output_type": "display_data"
    },
    {
     "data": {
      "text/plain": [
       "<matplotlib.axes._subplots.AxesSubplot at 0x1863b83f048>"
      ]
     },
     "execution_count": 30,
     "metadata": {},
     "output_type": "execute_result"
    },
    {
     "data": {
      "image/png": "[encoded data removed]",
      "text/plain": [
       "<Figure size 864x432 with 1 Axes>"
      ]
     },
     "metadata": {},
     "output_type": "display_data"
    }
   ],
   "source": [
    "# Inspect only stocks selling above highest intrinsic value estimate\n",
    "# Note that since these estimates can be very large, this will return a shorter list,\n",
    "# and that a bit more complex querying may serve those looking for more shortable stocks\n",
    "inspect2 = short_estimates[(short_estimates['Price'] > short_estimates['Est High'])].copy()\n",
    "inspect2['Margin of Safety'] = inspect2['Price']/ inspect2['Est High'] - 1\n",
    "inspect2.sort_values(by='Margin of Safety', inplace=True)\n",
    "print(\"Number of overvalued compaines:\", len(inspect2))\n",
    "display(inspect2)\n",
    "inspect2.reset_index().plot(x='index', \n",
    "                           y='Margin of Safety',\n",
    "                           figsize=(12,6))"
   ]
  }
 ],
 "metadata": {
  "kernelspec": {
   "display_name": "Python 3",
   "language": "python",
   "name": "python3"
  },
  "language_info": {
   "codemirror_mode": {
    "name": "ipython",
    "version": 3
   },
   "file_extension": ".py",
   "mimetype": "text/x-python",
   "name": "python",
   "nbconvert_exporter": "python",
   "pygments_lexer": "ipython3",
   "version": "3.7.3"
  }
 },
 "nbformat": 4,
 "nbformat_minor": 4
}
